{
 "cells": [
  {
   "cell_type": "markdown",
   "id": "8694e76f",
   "metadata": {},
   "source": [
    "# Airbnb\n",
    "## Availability Data\n",
    "\n",
    "This dataset provides insight on whether a listing was available or not on a given date. With that, we can understand listing availability on Airbnb, and use this data to predict availability using Machine Learning.\n",
    "\n",
    "Here, we're going to focus on the `available` feature, which can take two possible states:\n",
    "\n",
    "* f = False, which means it is not available (It's booked)\n",
    "* t = True, which means it is available (It's not booked)\n"
   ]
  },
  {
   "cell_type": "code",
   "execution_count": 47,
   "id": "608c8192",
   "metadata": {},
   "outputs": [
    {
     "data": {
      "text/html": [
       "<div>\n",
       "<style scoped>\n",
       "    .dataframe tbody tr th:only-of-type {\n",
       "        vertical-align: middle;\n",
       "    }\n",
       "\n",
       "    .dataframe tbody tr th {\n",
       "        vertical-align: top;\n",
       "    }\n",
       "\n",
       "    .dataframe thead th {\n",
       "        text-align: right;\n",
       "    }\n",
       "</style>\n",
       "<table border=\"1\" class=\"dataframe\">\n",
       "  <thead>\n",
       "    <tr style=\"text-align: right;\">\n",
       "      <th></th>\n",
       "      <th>listing_id</th>\n",
       "      <th>date</th>\n",
       "      <th>available</th>\n",
       "      <th>price</th>\n",
       "      <th>adjusted_price</th>\n",
       "      <th>minimum_nights</th>\n",
       "      <th>maximum_nights</th>\n",
       "    </tr>\n",
       "  </thead>\n",
       "  <tbody>\n",
       "    <tr>\n",
       "      <th>0</th>\n",
       "      <td>61878</td>\n",
       "      <td>2023-09-12</td>\n",
       "      <td>f</td>\n",
       "      <td>$85.00</td>\n",
       "      <td>$85.00</td>\n",
       "      <td>30</td>\n",
       "      <td>1125</td>\n",
       "    </tr>\n",
       "    <tr>\n",
       "      <th>1</th>\n",
       "      <td>61878</td>\n",
       "      <td>2023-09-13</td>\n",
       "      <td>f</td>\n",
       "      <td>$85.00</td>\n",
       "      <td>$85.00</td>\n",
       "      <td>30</td>\n",
       "      <td>1125</td>\n",
       "    </tr>\n",
       "    <tr>\n",
       "      <th>2</th>\n",
       "      <td>61878</td>\n",
       "      <td>2023-09-14</td>\n",
       "      <td>f</td>\n",
       "      <td>$85.00</td>\n",
       "      <td>$85.00</td>\n",
       "      <td>30</td>\n",
       "      <td>1125</td>\n",
       "    </tr>\n",
       "    <tr>\n",
       "      <th>3</th>\n",
       "      <td>61878</td>\n",
       "      <td>2023-09-15</td>\n",
       "      <td>f</td>\n",
       "      <td>$85.00</td>\n",
       "      <td>$85.00</td>\n",
       "      <td>30</td>\n",
       "      <td>1125</td>\n",
       "    </tr>\n",
       "    <tr>\n",
       "      <th>4</th>\n",
       "      <td>61878</td>\n",
       "      <td>2023-09-16</td>\n",
       "      <td>f</td>\n",
       "      <td>$85.00</td>\n",
       "      <td>$85.00</td>\n",
       "      <td>30</td>\n",
       "      <td>1125</td>\n",
       "    </tr>\n",
       "    <tr>\n",
       "      <th>5</th>\n",
       "      <td>61878</td>\n",
       "      <td>2023-09-17</td>\n",
       "      <td>f</td>\n",
       "      <td>$85.00</td>\n",
       "      <td>$85.00</td>\n",
       "      <td>30</td>\n",
       "      <td>1125</td>\n",
       "    </tr>\n",
       "    <tr>\n",
       "      <th>6</th>\n",
       "      <td>61878</td>\n",
       "      <td>2023-09-18</td>\n",
       "      <td>f</td>\n",
       "      <td>$85.00</td>\n",
       "      <td>$85.00</td>\n",
       "      <td>30</td>\n",
       "      <td>1125</td>\n",
       "    </tr>\n",
       "    <tr>\n",
       "      <th>7</th>\n",
       "      <td>61878</td>\n",
       "      <td>2023-09-19</td>\n",
       "      <td>f</td>\n",
       "      <td>$85.00</td>\n",
       "      <td>$85.00</td>\n",
       "      <td>30</td>\n",
       "      <td>1125</td>\n",
       "    </tr>\n",
       "    <tr>\n",
       "      <th>8</th>\n",
       "      <td>61878</td>\n",
       "      <td>2023-09-20</td>\n",
       "      <td>f</td>\n",
       "      <td>$85.00</td>\n",
       "      <td>$85.00</td>\n",
       "      <td>30</td>\n",
       "      <td>1125</td>\n",
       "    </tr>\n",
       "    <tr>\n",
       "      <th>9</th>\n",
       "      <td>61878</td>\n",
       "      <td>2023-09-21</td>\n",
       "      <td>f</td>\n",
       "      <td>$85.00</td>\n",
       "      <td>$85.00</td>\n",
       "      <td>30</td>\n",
       "      <td>1125</td>\n",
       "    </tr>\n",
       "  </tbody>\n",
       "</table>\n",
       "</div>"
      ],
      "text/plain": [
       "   listing_id       date available   price adjusted_price  minimum_nights  \\\n",
       "0       61878 2023-09-12         f  $85.00         $85.00              30   \n",
       "1       61878 2023-09-13         f  $85.00         $85.00              30   \n",
       "2       61878 2023-09-14         f  $85.00         $85.00              30   \n",
       "3       61878 2023-09-15         f  $85.00         $85.00              30   \n",
       "4       61878 2023-09-16         f  $85.00         $85.00              30   \n",
       "5       61878 2023-09-17         f  $85.00         $85.00              30   \n",
       "6       61878 2023-09-18         f  $85.00         $85.00              30   \n",
       "7       61878 2023-09-19         f  $85.00         $85.00              30   \n",
       "8       61878 2023-09-20         f  $85.00         $85.00              30   \n",
       "9       61878 2023-09-21         f  $85.00         $85.00              30   \n",
       "\n",
       "   maximum_nights  \n",
       "0            1125  \n",
       "1            1125  \n",
       "2            1125  \n",
       "3            1125  \n",
       "4            1125  \n",
       "5            1125  \n",
       "6            1125  \n",
       "7            1125  \n",
       "8            1125  \n",
       "9            1125  "
      ]
     },
     "execution_count": 47,
     "metadata": {},
     "output_type": "execute_result"
    }
   ],
   "source": [
    "import pandas as pd\n",
    "import numpy as np\n",
    "import seaborn as sns\n",
    "\n",
    "df = pd.read_parquet('/Users/rafaelduarte/Projects/airbnb/data/raw/dallas-calendar-2023-09-12.csv.parquet')\n",
    "df['date'] = pd.to_datetime(df['date'], infer_datetime_format=True)\n",
    "df.head(10)"
   ]
  },
  {
   "cell_type": "code",
   "execution_count": 48,
   "id": "bc27c3a1",
   "metadata": {},
   "outputs": [
    {
     "data": {
      "text/plain": [
       "(2053855, 7)"
      ]
     },
     "execution_count": 48,
     "metadata": {},
     "output_type": "execute_result"
    }
   ],
   "source": [
    "df.shape"
   ]
  },
  {
   "cell_type": "code",
   "execution_count": 49,
   "id": "6f076ff7",
   "metadata": {},
   "outputs": [
    {
     "name": "stdout",
     "output_type": "stream",
     "text": [
      "<class 'pandas.core.frame.DataFrame'>\n",
      "RangeIndex: 2053855 entries, 0 to 2053854\n",
      "Data columns (total 7 columns):\n",
      " #   Column          Dtype         \n",
      "---  ------          -----         \n",
      " 0   listing_id      int64         \n",
      " 1   date            datetime64[ns]\n",
      " 2   available       object        \n",
      " 3   price           object        \n",
      " 4   adjusted_price  object        \n",
      " 5   minimum_nights  int64         \n",
      " 6   maximum_nights  int64         \n",
      "dtypes: datetime64[ns](1), int64(3), object(3)\n",
      "memory usage: 109.7+ MB\n"
     ]
    }
   ],
   "source": [
    "df.info()"
   ]
  },
  {
   "cell_type": "code",
   "execution_count": 50,
   "id": "d95b3deb",
   "metadata": {},
   "outputs": [],
   "source": [
    "# Add new columns\n",
    "df['Year'] = df['date'].dt.isocalendar().year\n",
    "df['Quarter'] = df['date'].dt.quarter\n",
    "df['Month'] = df['date'].dt.month\n",
    "df['Week'] = df['date'].dt.isocalendar().week\n",
    "df['Weekday'] = df['date'].dt.weekday\n",
    "df['Day'] = df['date'].dt.day\n",
    "df['Dayofyear'] = df['date'].dt.dayofyear\n",
    "\n",
    "# Add 'Weekend' column\n",
    "df['Weekend'] = df['date'].dt.weekday // 5  # 0 for weekdays, 1 for weekends\n",
    "\n",
    "df.index = pd.to_datetime(df['date'], infer_datetime_format=True)"
   ]
  },
  {
   "cell_type": "code",
   "execution_count": 51,
   "id": "39627c08",
   "metadata": {},
   "outputs": [
    {
     "data": {
      "text/html": [
       "<div>\n",
       "<style scoped>\n",
       "    .dataframe tbody tr th:only-of-type {\n",
       "        vertical-align: middle;\n",
       "    }\n",
       "\n",
       "    .dataframe tbody tr th {\n",
       "        vertical-align: top;\n",
       "    }\n",
       "\n",
       "    .dataframe thead th {\n",
       "        text-align: right;\n",
       "    }\n",
       "</style>\n",
       "<table border=\"1\" class=\"dataframe\">\n",
       "  <thead>\n",
       "    <tr style=\"text-align: right;\">\n",
       "      <th></th>\n",
       "      <th>listing_id</th>\n",
       "      <th>date</th>\n",
       "      <th>available</th>\n",
       "      <th>price</th>\n",
       "      <th>adjusted_price</th>\n",
       "      <th>minimum_nights</th>\n",
       "      <th>maximum_nights</th>\n",
       "      <th>Year</th>\n",
       "      <th>Quarter</th>\n",
       "      <th>Month</th>\n",
       "      <th>Week</th>\n",
       "      <th>Weekday</th>\n",
       "      <th>Day</th>\n",
       "      <th>Dayofyear</th>\n",
       "      <th>Weekend</th>\n",
       "    </tr>\n",
       "    <tr>\n",
       "      <th>date</th>\n",
       "      <th></th>\n",
       "      <th></th>\n",
       "      <th></th>\n",
       "      <th></th>\n",
       "      <th></th>\n",
       "      <th></th>\n",
       "      <th></th>\n",
       "      <th></th>\n",
       "      <th></th>\n",
       "      <th></th>\n",
       "      <th></th>\n",
       "      <th></th>\n",
       "      <th></th>\n",
       "      <th></th>\n",
       "      <th></th>\n",
       "    </tr>\n",
       "  </thead>\n",
       "  <tbody>\n",
       "    <tr>\n",
       "      <th>2023-09-12</th>\n",
       "      <td>61878</td>\n",
       "      <td>2023-09-12</td>\n",
       "      <td>f</td>\n",
       "      <td>$85.00</td>\n",
       "      <td>$85.00</td>\n",
       "      <td>30</td>\n",
       "      <td>1125</td>\n",
       "      <td>2023</td>\n",
       "      <td>3</td>\n",
       "      <td>9</td>\n",
       "      <td>37</td>\n",
       "      <td>1</td>\n",
       "      <td>12</td>\n",
       "      <td>255</td>\n",
       "      <td>0</td>\n",
       "    </tr>\n",
       "    <tr>\n",
       "      <th>2023-09-13</th>\n",
       "      <td>61878</td>\n",
       "      <td>2023-09-13</td>\n",
       "      <td>f</td>\n",
       "      <td>$85.00</td>\n",
       "      <td>$85.00</td>\n",
       "      <td>30</td>\n",
       "      <td>1125</td>\n",
       "      <td>2023</td>\n",
       "      <td>3</td>\n",
       "      <td>9</td>\n",
       "      <td>37</td>\n",
       "      <td>2</td>\n",
       "      <td>13</td>\n",
       "      <td>256</td>\n",
       "      <td>0</td>\n",
       "    </tr>\n",
       "    <tr>\n",
       "      <th>2023-09-14</th>\n",
       "      <td>61878</td>\n",
       "      <td>2023-09-14</td>\n",
       "      <td>f</td>\n",
       "      <td>$85.00</td>\n",
       "      <td>$85.00</td>\n",
       "      <td>30</td>\n",
       "      <td>1125</td>\n",
       "      <td>2023</td>\n",
       "      <td>3</td>\n",
       "      <td>9</td>\n",
       "      <td>37</td>\n",
       "      <td>3</td>\n",
       "      <td>14</td>\n",
       "      <td>257</td>\n",
       "      <td>0</td>\n",
       "    </tr>\n",
       "    <tr>\n",
       "      <th>2023-09-15</th>\n",
       "      <td>61878</td>\n",
       "      <td>2023-09-15</td>\n",
       "      <td>f</td>\n",
       "      <td>$85.00</td>\n",
       "      <td>$85.00</td>\n",
       "      <td>30</td>\n",
       "      <td>1125</td>\n",
       "      <td>2023</td>\n",
       "      <td>3</td>\n",
       "      <td>9</td>\n",
       "      <td>37</td>\n",
       "      <td>4</td>\n",
       "      <td>15</td>\n",
       "      <td>258</td>\n",
       "      <td>0</td>\n",
       "    </tr>\n",
       "    <tr>\n",
       "      <th>2023-09-16</th>\n",
       "      <td>61878</td>\n",
       "      <td>2023-09-16</td>\n",
       "      <td>f</td>\n",
       "      <td>$85.00</td>\n",
       "      <td>$85.00</td>\n",
       "      <td>30</td>\n",
       "      <td>1125</td>\n",
       "      <td>2023</td>\n",
       "      <td>3</td>\n",
       "      <td>9</td>\n",
       "      <td>37</td>\n",
       "      <td>5</td>\n",
       "      <td>16</td>\n",
       "      <td>259</td>\n",
       "      <td>1</td>\n",
       "    </tr>\n",
       "    <tr>\n",
       "      <th>2023-09-17</th>\n",
       "      <td>61878</td>\n",
       "      <td>2023-09-17</td>\n",
       "      <td>f</td>\n",
       "      <td>$85.00</td>\n",
       "      <td>$85.00</td>\n",
       "      <td>30</td>\n",
       "      <td>1125</td>\n",
       "      <td>2023</td>\n",
       "      <td>3</td>\n",
       "      <td>9</td>\n",
       "      <td>37</td>\n",
       "      <td>6</td>\n",
       "      <td>17</td>\n",
       "      <td>260</td>\n",
       "      <td>1</td>\n",
       "    </tr>\n",
       "    <tr>\n",
       "      <th>2023-09-18</th>\n",
       "      <td>61878</td>\n",
       "      <td>2023-09-18</td>\n",
       "      <td>f</td>\n",
       "      <td>$85.00</td>\n",
       "      <td>$85.00</td>\n",
       "      <td>30</td>\n",
       "      <td>1125</td>\n",
       "      <td>2023</td>\n",
       "      <td>3</td>\n",
       "      <td>9</td>\n",
       "      <td>38</td>\n",
       "      <td>0</td>\n",
       "      <td>18</td>\n",
       "      <td>261</td>\n",
       "      <td>0</td>\n",
       "    </tr>\n",
       "    <tr>\n",
       "      <th>2023-09-19</th>\n",
       "      <td>61878</td>\n",
       "      <td>2023-09-19</td>\n",
       "      <td>f</td>\n",
       "      <td>$85.00</td>\n",
       "      <td>$85.00</td>\n",
       "      <td>30</td>\n",
       "      <td>1125</td>\n",
       "      <td>2023</td>\n",
       "      <td>3</td>\n",
       "      <td>9</td>\n",
       "      <td>38</td>\n",
       "      <td>1</td>\n",
       "      <td>19</td>\n",
       "      <td>262</td>\n",
       "      <td>0</td>\n",
       "    </tr>\n",
       "    <tr>\n",
       "      <th>2023-09-20</th>\n",
       "      <td>61878</td>\n",
       "      <td>2023-09-20</td>\n",
       "      <td>f</td>\n",
       "      <td>$85.00</td>\n",
       "      <td>$85.00</td>\n",
       "      <td>30</td>\n",
       "      <td>1125</td>\n",
       "      <td>2023</td>\n",
       "      <td>3</td>\n",
       "      <td>9</td>\n",
       "      <td>38</td>\n",
       "      <td>2</td>\n",
       "      <td>20</td>\n",
       "      <td>263</td>\n",
       "      <td>0</td>\n",
       "    </tr>\n",
       "    <tr>\n",
       "      <th>2023-09-21</th>\n",
       "      <td>61878</td>\n",
       "      <td>2023-09-21</td>\n",
       "      <td>f</td>\n",
       "      <td>$85.00</td>\n",
       "      <td>$85.00</td>\n",
       "      <td>30</td>\n",
       "      <td>1125</td>\n",
       "      <td>2023</td>\n",
       "      <td>3</td>\n",
       "      <td>9</td>\n",
       "      <td>38</td>\n",
       "      <td>3</td>\n",
       "      <td>21</td>\n",
       "      <td>264</td>\n",
       "      <td>0</td>\n",
       "    </tr>\n",
       "    <tr>\n",
       "      <th>2023-09-22</th>\n",
       "      <td>61878</td>\n",
       "      <td>2023-09-22</td>\n",
       "      <td>f</td>\n",
       "      <td>$85.00</td>\n",
       "      <td>$85.00</td>\n",
       "      <td>30</td>\n",
       "      <td>1125</td>\n",
       "      <td>2023</td>\n",
       "      <td>3</td>\n",
       "      <td>9</td>\n",
       "      <td>38</td>\n",
       "      <td>4</td>\n",
       "      <td>22</td>\n",
       "      <td>265</td>\n",
       "      <td>0</td>\n",
       "    </tr>\n",
       "    <tr>\n",
       "      <th>2023-09-23</th>\n",
       "      <td>61878</td>\n",
       "      <td>2023-09-23</td>\n",
       "      <td>f</td>\n",
       "      <td>$85.00</td>\n",
       "      <td>$85.00</td>\n",
       "      <td>30</td>\n",
       "      <td>1125</td>\n",
       "      <td>2023</td>\n",
       "      <td>3</td>\n",
       "      <td>9</td>\n",
       "      <td>38</td>\n",
       "      <td>5</td>\n",
       "      <td>23</td>\n",
       "      <td>266</td>\n",
       "      <td>1</td>\n",
       "    </tr>\n",
       "    <tr>\n",
       "      <th>2023-09-24</th>\n",
       "      <td>61878</td>\n",
       "      <td>2023-09-24</td>\n",
       "      <td>f</td>\n",
       "      <td>$85.00</td>\n",
       "      <td>$85.00</td>\n",
       "      <td>30</td>\n",
       "      <td>1125</td>\n",
       "      <td>2023</td>\n",
       "      <td>3</td>\n",
       "      <td>9</td>\n",
       "      <td>38</td>\n",
       "      <td>6</td>\n",
       "      <td>24</td>\n",
       "      <td>267</td>\n",
       "      <td>1</td>\n",
       "    </tr>\n",
       "    <tr>\n",
       "      <th>2023-09-25</th>\n",
       "      <td>61878</td>\n",
       "      <td>2023-09-25</td>\n",
       "      <td>f</td>\n",
       "      <td>$85.00</td>\n",
       "      <td>$85.00</td>\n",
       "      <td>30</td>\n",
       "      <td>1125</td>\n",
       "      <td>2023</td>\n",
       "      <td>3</td>\n",
       "      <td>9</td>\n",
       "      <td>39</td>\n",
       "      <td>0</td>\n",
       "      <td>25</td>\n",
       "      <td>268</td>\n",
       "      <td>0</td>\n",
       "    </tr>\n",
       "    <tr>\n",
       "      <th>2023-09-26</th>\n",
       "      <td>61878</td>\n",
       "      <td>2023-09-26</td>\n",
       "      <td>f</td>\n",
       "      <td>$85.00</td>\n",
       "      <td>$85.00</td>\n",
       "      <td>30</td>\n",
       "      <td>1125</td>\n",
       "      <td>2023</td>\n",
       "      <td>3</td>\n",
       "      <td>9</td>\n",
       "      <td>39</td>\n",
       "      <td>1</td>\n",
       "      <td>26</td>\n",
       "      <td>269</td>\n",
       "      <td>0</td>\n",
       "    </tr>\n",
       "    <tr>\n",
       "      <th>2023-09-27</th>\n",
       "      <td>61878</td>\n",
       "      <td>2023-09-27</td>\n",
       "      <td>f</td>\n",
       "      <td>$85.00</td>\n",
       "      <td>$85.00</td>\n",
       "      <td>30</td>\n",
       "      <td>1125</td>\n",
       "      <td>2023</td>\n",
       "      <td>3</td>\n",
       "      <td>9</td>\n",
       "      <td>39</td>\n",
       "      <td>2</td>\n",
       "      <td>27</td>\n",
       "      <td>270</td>\n",
       "      <td>0</td>\n",
       "    </tr>\n",
       "    <tr>\n",
       "      <th>2023-09-28</th>\n",
       "      <td>61878</td>\n",
       "      <td>2023-09-28</td>\n",
       "      <td>f</td>\n",
       "      <td>$85.00</td>\n",
       "      <td>$85.00</td>\n",
       "      <td>30</td>\n",
       "      <td>1125</td>\n",
       "      <td>2023</td>\n",
       "      <td>3</td>\n",
       "      <td>9</td>\n",
       "      <td>39</td>\n",
       "      <td>3</td>\n",
       "      <td>28</td>\n",
       "      <td>271</td>\n",
       "      <td>0</td>\n",
       "    </tr>\n",
       "    <tr>\n",
       "      <th>2023-09-29</th>\n",
       "      <td>61878</td>\n",
       "      <td>2023-09-29</td>\n",
       "      <td>f</td>\n",
       "      <td>$94.00</td>\n",
       "      <td>$94.00</td>\n",
       "      <td>30</td>\n",
       "      <td>1125</td>\n",
       "      <td>2023</td>\n",
       "      <td>3</td>\n",
       "      <td>9</td>\n",
       "      <td>39</td>\n",
       "      <td>4</td>\n",
       "      <td>29</td>\n",
       "      <td>272</td>\n",
       "      <td>0</td>\n",
       "    </tr>\n",
       "    <tr>\n",
       "      <th>2023-09-30</th>\n",
       "      <td>61878</td>\n",
       "      <td>2023-09-30</td>\n",
       "      <td>f</td>\n",
       "      <td>$92.00</td>\n",
       "      <td>$92.00</td>\n",
       "      <td>30</td>\n",
       "      <td>1125</td>\n",
       "      <td>2023</td>\n",
       "      <td>3</td>\n",
       "      <td>9</td>\n",
       "      <td>39</td>\n",
       "      <td>5</td>\n",
       "      <td>30</td>\n",
       "      <td>273</td>\n",
       "      <td>1</td>\n",
       "    </tr>\n",
       "    <tr>\n",
       "      <th>2023-10-01</th>\n",
       "      <td>61878</td>\n",
       "      <td>2023-10-01</td>\n",
       "      <td>f</td>\n",
       "      <td>$85.00</td>\n",
       "      <td>$85.00</td>\n",
       "      <td>30</td>\n",
       "      <td>1125</td>\n",
       "      <td>2023</td>\n",
       "      <td>4</td>\n",
       "      <td>10</td>\n",
       "      <td>39</td>\n",
       "      <td>6</td>\n",
       "      <td>1</td>\n",
       "      <td>274</td>\n",
       "      <td>1</td>\n",
       "    </tr>\n",
       "    <tr>\n",
       "      <th>2023-10-02</th>\n",
       "      <td>61878</td>\n",
       "      <td>2023-10-02</td>\n",
       "      <td>f</td>\n",
       "      <td>$85.00</td>\n",
       "      <td>$85.00</td>\n",
       "      <td>30</td>\n",
       "      <td>1125</td>\n",
       "      <td>2023</td>\n",
       "      <td>4</td>\n",
       "      <td>10</td>\n",
       "      <td>40</td>\n",
       "      <td>0</td>\n",
       "      <td>2</td>\n",
       "      <td>275</td>\n",
       "      <td>0</td>\n",
       "    </tr>\n",
       "    <tr>\n",
       "      <th>2023-10-03</th>\n",
       "      <td>61878</td>\n",
       "      <td>2023-10-03</td>\n",
       "      <td>f</td>\n",
       "      <td>$85.00</td>\n",
       "      <td>$85.00</td>\n",
       "      <td>30</td>\n",
       "      <td>1125</td>\n",
       "      <td>2023</td>\n",
       "      <td>4</td>\n",
       "      <td>10</td>\n",
       "      <td>40</td>\n",
       "      <td>1</td>\n",
       "      <td>3</td>\n",
       "      <td>276</td>\n",
       "      <td>0</td>\n",
       "    </tr>\n",
       "    <tr>\n",
       "      <th>2023-10-04</th>\n",
       "      <td>61878</td>\n",
       "      <td>2023-10-04</td>\n",
       "      <td>f</td>\n",
       "      <td>$85.00</td>\n",
       "      <td>$85.00</td>\n",
       "      <td>30</td>\n",
       "      <td>1125</td>\n",
       "      <td>2023</td>\n",
       "      <td>4</td>\n",
       "      <td>10</td>\n",
       "      <td>40</td>\n",
       "      <td>2</td>\n",
       "      <td>4</td>\n",
       "      <td>277</td>\n",
       "      <td>0</td>\n",
       "    </tr>\n",
       "    <tr>\n",
       "      <th>2023-10-05</th>\n",
       "      <td>61878</td>\n",
       "      <td>2023-10-05</td>\n",
       "      <td>f</td>\n",
       "      <td>$85.00</td>\n",
       "      <td>$85.00</td>\n",
       "      <td>30</td>\n",
       "      <td>1125</td>\n",
       "      <td>2023</td>\n",
       "      <td>4</td>\n",
       "      <td>10</td>\n",
       "      <td>40</td>\n",
       "      <td>3</td>\n",
       "      <td>5</td>\n",
       "      <td>278</td>\n",
       "      <td>0</td>\n",
       "    </tr>\n",
       "    <tr>\n",
       "      <th>2023-10-06</th>\n",
       "      <td>61878</td>\n",
       "      <td>2023-10-06</td>\n",
       "      <td>f</td>\n",
       "      <td>$93.00</td>\n",
       "      <td>$93.00</td>\n",
       "      <td>30</td>\n",
       "      <td>1125</td>\n",
       "      <td>2023</td>\n",
       "      <td>4</td>\n",
       "      <td>10</td>\n",
       "      <td>40</td>\n",
       "      <td>4</td>\n",
       "      <td>6</td>\n",
       "      <td>279</td>\n",
       "      <td>0</td>\n",
       "    </tr>\n",
       "    <tr>\n",
       "      <th>2023-10-07</th>\n",
       "      <td>61878</td>\n",
       "      <td>2023-10-07</td>\n",
       "      <td>f</td>\n",
       "      <td>$101.00</td>\n",
       "      <td>$101.00</td>\n",
       "      <td>30</td>\n",
       "      <td>1125</td>\n",
       "      <td>2023</td>\n",
       "      <td>4</td>\n",
       "      <td>10</td>\n",
       "      <td>40</td>\n",
       "      <td>5</td>\n",
       "      <td>7</td>\n",
       "      <td>280</td>\n",
       "      <td>1</td>\n",
       "    </tr>\n",
       "    <tr>\n",
       "      <th>2023-10-08</th>\n",
       "      <td>61878</td>\n",
       "      <td>2023-10-08</td>\n",
       "      <td>f</td>\n",
       "      <td>$85.00</td>\n",
       "      <td>$85.00</td>\n",
       "      <td>30</td>\n",
       "      <td>1125</td>\n",
       "      <td>2023</td>\n",
       "      <td>4</td>\n",
       "      <td>10</td>\n",
       "      <td>40</td>\n",
       "      <td>6</td>\n",
       "      <td>8</td>\n",
       "      <td>281</td>\n",
       "      <td>1</td>\n",
       "    </tr>\n",
       "    <tr>\n",
       "      <th>2023-10-09</th>\n",
       "      <td>61878</td>\n",
       "      <td>2023-10-09</td>\n",
       "      <td>f</td>\n",
       "      <td>$85.00</td>\n",
       "      <td>$85.00</td>\n",
       "      <td>30</td>\n",
       "      <td>1125</td>\n",
       "      <td>2023</td>\n",
       "      <td>4</td>\n",
       "      <td>10</td>\n",
       "      <td>41</td>\n",
       "      <td>0</td>\n",
       "      <td>9</td>\n",
       "      <td>282</td>\n",
       "      <td>0</td>\n",
       "    </tr>\n",
       "    <tr>\n",
       "      <th>2023-10-10</th>\n",
       "      <td>61878</td>\n",
       "      <td>2023-10-10</td>\n",
       "      <td>t</td>\n",
       "      <td>$85.00</td>\n",
       "      <td>$85.00</td>\n",
       "      <td>30</td>\n",
       "      <td>1125</td>\n",
       "      <td>2023</td>\n",
       "      <td>4</td>\n",
       "      <td>10</td>\n",
       "      <td>41</td>\n",
       "      <td>1</td>\n",
       "      <td>10</td>\n",
       "      <td>283</td>\n",
       "      <td>0</td>\n",
       "    </tr>\n",
       "    <tr>\n",
       "      <th>2023-10-11</th>\n",
       "      <td>61878</td>\n",
       "      <td>2023-10-11</td>\n",
       "      <td>t</td>\n",
       "      <td>$85.00</td>\n",
       "      <td>$85.00</td>\n",
       "      <td>30</td>\n",
       "      <td>1125</td>\n",
       "      <td>2023</td>\n",
       "      <td>4</td>\n",
       "      <td>10</td>\n",
       "      <td>41</td>\n",
       "      <td>2</td>\n",
       "      <td>11</td>\n",
       "      <td>284</td>\n",
       "      <td>0</td>\n",
       "    </tr>\n",
       "  </tbody>\n",
       "</table>\n",
       "</div>"
      ],
      "text/plain": [
       "            listing_id       date available    price adjusted_price  \\\n",
       "date                                                                  \n",
       "2023-09-12       61878 2023-09-12         f   $85.00         $85.00   \n",
       "2023-09-13       61878 2023-09-13         f   $85.00         $85.00   \n",
       "2023-09-14       61878 2023-09-14         f   $85.00         $85.00   \n",
       "2023-09-15       61878 2023-09-15         f   $85.00         $85.00   \n",
       "2023-09-16       61878 2023-09-16         f   $85.00         $85.00   \n",
       "2023-09-17       61878 2023-09-17         f   $85.00         $85.00   \n",
       "2023-09-18       61878 2023-09-18         f   $85.00         $85.00   \n",
       "2023-09-19       61878 2023-09-19         f   $85.00         $85.00   \n",
       "2023-09-20       61878 2023-09-20         f   $85.00         $85.00   \n",
       "2023-09-21       61878 2023-09-21         f   $85.00         $85.00   \n",
       "2023-09-22       61878 2023-09-22         f   $85.00         $85.00   \n",
       "2023-09-23       61878 2023-09-23         f   $85.00         $85.00   \n",
       "2023-09-24       61878 2023-09-24         f   $85.00         $85.00   \n",
       "2023-09-25       61878 2023-09-25         f   $85.00         $85.00   \n",
       "2023-09-26       61878 2023-09-26         f   $85.00         $85.00   \n",
       "2023-09-27       61878 2023-09-27         f   $85.00         $85.00   \n",
       "2023-09-28       61878 2023-09-28         f   $85.00         $85.00   \n",
       "2023-09-29       61878 2023-09-29         f   $94.00         $94.00   \n",
       "2023-09-30       61878 2023-09-30         f   $92.00         $92.00   \n",
       "2023-10-01       61878 2023-10-01         f   $85.00         $85.00   \n",
       "2023-10-02       61878 2023-10-02         f   $85.00         $85.00   \n",
       "2023-10-03       61878 2023-10-03         f   $85.00         $85.00   \n",
       "2023-10-04       61878 2023-10-04         f   $85.00         $85.00   \n",
       "2023-10-05       61878 2023-10-05         f   $85.00         $85.00   \n",
       "2023-10-06       61878 2023-10-06         f   $93.00         $93.00   \n",
       "2023-10-07       61878 2023-10-07         f  $101.00        $101.00   \n",
       "2023-10-08       61878 2023-10-08         f   $85.00         $85.00   \n",
       "2023-10-09       61878 2023-10-09         f   $85.00         $85.00   \n",
       "2023-10-10       61878 2023-10-10         t   $85.00         $85.00   \n",
       "2023-10-11       61878 2023-10-11         t   $85.00         $85.00   \n",
       "\n",
       "            minimum_nights  maximum_nights  Year  Quarter  Month  Week  \\\n",
       "date                                                                     \n",
       "2023-09-12              30            1125  2023        3      9    37   \n",
       "2023-09-13              30            1125  2023        3      9    37   \n",
       "2023-09-14              30            1125  2023        3      9    37   \n",
       "2023-09-15              30            1125  2023        3      9    37   \n",
       "2023-09-16              30            1125  2023        3      9    37   \n",
       "2023-09-17              30            1125  2023        3      9    37   \n",
       "2023-09-18              30            1125  2023        3      9    38   \n",
       "2023-09-19              30            1125  2023        3      9    38   \n",
       "2023-09-20              30            1125  2023        3      9    38   \n",
       "2023-09-21              30            1125  2023        3      9    38   \n",
       "2023-09-22              30            1125  2023        3      9    38   \n",
       "2023-09-23              30            1125  2023        3      9    38   \n",
       "2023-09-24              30            1125  2023        3      9    38   \n",
       "2023-09-25              30            1125  2023        3      9    39   \n",
       "2023-09-26              30            1125  2023        3      9    39   \n",
       "2023-09-27              30            1125  2023        3      9    39   \n",
       "2023-09-28              30            1125  2023        3      9    39   \n",
       "2023-09-29              30            1125  2023        3      9    39   \n",
       "2023-09-30              30            1125  2023        3      9    39   \n",
       "2023-10-01              30            1125  2023        4     10    39   \n",
       "2023-10-02              30            1125  2023        4     10    40   \n",
       "2023-10-03              30            1125  2023        4     10    40   \n",
       "2023-10-04              30            1125  2023        4     10    40   \n",
       "2023-10-05              30            1125  2023        4     10    40   \n",
       "2023-10-06              30            1125  2023        4     10    40   \n",
       "2023-10-07              30            1125  2023        4     10    40   \n",
       "2023-10-08              30            1125  2023        4     10    40   \n",
       "2023-10-09              30            1125  2023        4     10    41   \n",
       "2023-10-10              30            1125  2023        4     10    41   \n",
       "2023-10-11              30            1125  2023        4     10    41   \n",
       "\n",
       "            Weekday  Day  Dayofyear  Weekend  \n",
       "date                                          \n",
       "2023-09-12        1   12        255        0  \n",
       "2023-09-13        2   13        256        0  \n",
       "2023-09-14        3   14        257        0  \n",
       "2023-09-15        4   15        258        0  \n",
       "2023-09-16        5   16        259        1  \n",
       "2023-09-17        6   17        260        1  \n",
       "2023-09-18        0   18        261        0  \n",
       "2023-09-19        1   19        262        0  \n",
       "2023-09-20        2   20        263        0  \n",
       "2023-09-21        3   21        264        0  \n",
       "2023-09-22        4   22        265        0  \n",
       "2023-09-23        5   23        266        1  \n",
       "2023-09-24        6   24        267        1  \n",
       "2023-09-25        0   25        268        0  \n",
       "2023-09-26        1   26        269        0  \n",
       "2023-09-27        2   27        270        0  \n",
       "2023-09-28        3   28        271        0  \n",
       "2023-09-29        4   29        272        0  \n",
       "2023-09-30        5   30        273        1  \n",
       "2023-10-01        6    1        274        1  \n",
       "2023-10-02        0    2        275        0  \n",
       "2023-10-03        1    3        276        0  \n",
       "2023-10-04        2    4        277        0  \n",
       "2023-10-05        3    5        278        0  \n",
       "2023-10-06        4    6        279        0  \n",
       "2023-10-07        5    7        280        1  \n",
       "2023-10-08        6    8        281        1  \n",
       "2023-10-09        0    9        282        0  \n",
       "2023-10-10        1   10        283        0  \n",
       "2023-10-11        2   11        284        0  "
      ]
     },
     "execution_count": 51,
     "metadata": {},
     "output_type": "execute_result"
    }
   ],
   "source": [
    "df.head(30)"
   ]
  },
  {
   "cell_type": "markdown",
   "id": "0d3d3d9b",
   "metadata": {},
   "source": [
    "## Data Cleaning"
   ]
  },
  {
   "cell_type": "markdown",
   "id": "00819b79",
   "metadata": {},
   "source": [
    "### Encoding `available`\n",
    "\n",
    "As it comes from the source, the feature `available` is represented as: \n",
    "* `t` for True or Available\n",
    "* `f` for False or Unavailable\n",
    "\n",
    "To make it possible for a Machine Learning model to compute it, let's make it numeric, where:\n",
    "\n",
    "* `0` represents Available\n",
    "* `1` represents Booked (Unavaialable)"
   ]
  },
  {
   "cell_type": "code",
   "execution_count": 52,
   "id": "b8c3ab13",
   "metadata": {},
   "outputs": [
    {
     "data": {
      "text/plain": [
       "0.0    1250638\n",
       "1.0     803217\n",
       "Name: available, dtype: int64"
      ]
     },
     "execution_count": 52,
     "metadata": {},
     "output_type": "execute_result"
    }
   ],
   "source": [
    "# Ensure the 'available' column is in numeric format\n",
    "df['available'] = df['available'].map({'t': 0, 'f': 1}).astype(float)\n",
    "\n",
    "df.available.value_counts()"
   ]
  },
  {
   "cell_type": "markdown",
   "id": "00379c11",
   "metadata": {},
   "source": [
    "### Transforming Monetary Values\n",
    "\n",
    "From the source, `price` and `adjusted_price` are `objects`, with $.\n",
    "\n",
    "To make there columns usable, we need to:\n",
    "\n",
    "* Remove the $\n",
    "* Remove commas (,)\n",
    "* Transform them into float"
   ]
  },
  {
   "cell_type": "code",
   "execution_count": 53,
   "id": "3507903d",
   "metadata": {},
   "outputs": [
    {
     "name": "stderr",
     "output_type": "stream",
     "text": [
      "<ipython-input-53-d1eb6187f913>:2: FutureWarning:\n",
      "\n",
      "The default value of regex will change from True to False in a future version. In addition, single character regular expressions will*not* be treated as literal strings when regex=True.\n",
      "\n",
      "<ipython-input-53-d1eb6187f913>:5: FutureWarning:\n",
      "\n",
      "The default value of regex will change from True to False in a future version. In addition, single character regular expressions will*not* be treated as literal strings when regex=True.\n",
      "\n"
     ]
    },
    {
     "name": "stdout",
     "output_type": "stream",
     "text": [
      "<class 'pandas.core.frame.DataFrame'>\n",
      "DatetimeIndex: 2053855 entries, 2023-09-12 to 2024-09-10\n",
      "Data columns (total 15 columns):\n",
      " #   Column          Dtype         \n",
      "---  ------          -----         \n",
      " 0   listing_id      int64         \n",
      " 1   date            datetime64[ns]\n",
      " 2   available       float64       \n",
      " 3   price           float64       \n",
      " 4   adjusted_price  float64       \n",
      " 5   minimum_nights  int64         \n",
      " 6   maximum_nights  int64         \n",
      " 7   Year            UInt32        \n",
      " 8   Quarter         int64         \n",
      " 9   Month           int64         \n",
      " 10  Week            UInt32        \n",
      " 11  Weekday         int64         \n",
      " 12  Day             int64         \n",
      " 13  Dayofyear       int64         \n",
      " 14  Weekend         int64         \n",
      "dtypes: UInt32(2), datetime64[ns](1), float64(3), int64(9)\n",
      "memory usage: 239.0 MB\n"
     ]
    }
   ],
   "source": [
    "# Remove commas and the '$' symbol and convert to float for 'price' column\n",
    "df['price'] = df['price'].str.replace(',', '', regex=True).str.replace('$', '').astype(float)\n",
    "\n",
    "# Remove commas and the '$' symbol and convert to float for 'adjusted_price' column\n",
    "df['adjusted_price'] = df['adjusted_price'].str.replace(',', '', regex=True).str.replace('$', '').astype(float)\n",
    "\n",
    "# Checking results\n",
    "df.info()"
   ]
  },
  {
   "cell_type": "markdown",
   "id": "07bae7d1",
   "metadata": {},
   "source": [
    "### EDA\n",
    "\n",
    "Let's take a deeper look into our data."
   ]
  },
  {
   "cell_type": "code",
   "execution_count": 43,
   "id": "c42683ff",
   "metadata": {},
   "outputs": [
    {
     "name": "stdout",
     "output_type": "stream",
     "text": [
      "Listing ID with the highest occupancy rate: 826201\n"
     ]
    }
   ],
   "source": [
    "# Step 1: Filter the DataFrame to include only rows where 'available' is 'f'\n",
    "filtered_df = df[df['available'] == 1.0]\n",
    "\n",
    "# Step 2 and 3: Group by 'listing_id' and count 'f' entries\n",
    "count_f_entries = filtered_df.groupby('listing_id')['available'].count()\n",
    "\n",
    "# Step 4: Find the 'listing_id' with the highest count of 'f' entries (highest occupancy rate)\n",
    "listing_id_with_highest_f_count = count_f_entries.idxmax()\n",
    "\n",
    "print(\"Listing ID with the highest occupancy rate:\", listing_id_with_highest_f_count)\n"
   ]
  },
  {
   "cell_type": "code",
   "execution_count": 44,
   "id": "872bac1b",
   "metadata": {},
   "outputs": [
    {
     "data": {
      "text/plain": [
       "listing_id\n",
       "61878       62\n",
       "776810      18\n",
       "795703      96\n",
       "826118      81\n",
       "826178     114\n",
       "826201     365\n",
       "860248     240\n",
       "1056850    171\n",
       "1154424     60\n",
       "1158488     70\n",
       "1223427     53\n",
       "1277933    263\n",
       "1479800    354\n",
       "1488809    252\n",
       "1507428     50\n",
       "1610263    293\n",
       "1627338    365\n",
       "1774599    365\n",
       "1826550    338\n",
       "1832427    319\n",
       "Name: available, dtype: int64"
      ]
     },
     "execution_count": 44,
     "metadata": {},
     "output_type": "execute_result"
    }
   ],
   "source": [
    "count_f_entries.head(20)"
   ]
  },
  {
   "cell_type": "code",
   "execution_count": 54,
   "id": "30f95508",
   "metadata": {},
   "outputs": [
    {
     "name": "stdout",
     "output_type": "stream",
     "text": [
      "Random Listing ID: 783275297205685307\n"
     ]
    }
   ],
   "source": [
    "import random\n",
    "\n",
    "# We can use this code to get a random listing_id\n",
    "\n",
    "# Get a list of unique listing_ids\n",
    "unique_listing_ids = df['listing_id'].unique()\n",
    "\n",
    "# Select a random listing_id\n",
    "random_listing_id = random.choice(unique_listing_ids)\n",
    "\n",
    "# Print the random listing_id\n",
    "print(\"Random Listing ID:\", random_listing_id)"
   ]
  },
  {
   "cell_type": "code",
   "execution_count": 55,
   "id": "d0408851",
   "metadata": {},
   "outputs": [
    {
     "name": "stdout",
     "output_type": "stream",
     "text": [
      "0.0    249\n",
      "1.0    116\n",
      "Name: available, dtype: int64\n"
     ]
    },
    {
     "data": {
      "text/html": [
       "<div>\n",
       "<style scoped>\n",
       "    .dataframe tbody tr th:only-of-type {\n",
       "        vertical-align: middle;\n",
       "    }\n",
       "\n",
       "    .dataframe tbody tr th {\n",
       "        vertical-align: top;\n",
       "    }\n",
       "\n",
       "    .dataframe thead th {\n",
       "        text-align: right;\n",
       "    }\n",
       "</style>\n",
       "<table border=\"1\" class=\"dataframe\">\n",
       "  <thead>\n",
       "    <tr style=\"text-align: right;\">\n",
       "      <th></th>\n",
       "      <th>listing_id</th>\n",
       "      <th>date</th>\n",
       "      <th>available</th>\n",
       "      <th>price</th>\n",
       "      <th>adjusted_price</th>\n",
       "      <th>minimum_nights</th>\n",
       "      <th>maximum_nights</th>\n",
       "      <th>Year</th>\n",
       "      <th>Quarter</th>\n",
       "      <th>Month</th>\n",
       "      <th>Week</th>\n",
       "      <th>Weekday</th>\n",
       "      <th>Day</th>\n",
       "      <th>Dayofyear</th>\n",
       "      <th>Weekend</th>\n",
       "    </tr>\n",
       "    <tr>\n",
       "      <th>date</th>\n",
       "      <th></th>\n",
       "      <th></th>\n",
       "      <th></th>\n",
       "      <th></th>\n",
       "      <th></th>\n",
       "      <th></th>\n",
       "      <th></th>\n",
       "      <th></th>\n",
       "      <th></th>\n",
       "      <th></th>\n",
       "      <th></th>\n",
       "      <th></th>\n",
       "      <th></th>\n",
       "      <th></th>\n",
       "      <th></th>\n",
       "    </tr>\n",
       "  </thead>\n",
       "  <tbody>\n",
       "    <tr>\n",
       "      <th>2023-09-12</th>\n",
       "      <td>795703</td>\n",
       "      <td>2023-09-12</td>\n",
       "      <td>1.0</td>\n",
       "      <td>229.0</td>\n",
       "      <td>229.0</td>\n",
       "      <td>30</td>\n",
       "      <td>365</td>\n",
       "      <td>2023</td>\n",
       "      <td>3</td>\n",
       "      <td>9</td>\n",
       "      <td>37</td>\n",
       "      <td>1</td>\n",
       "      <td>12</td>\n",
       "      <td>255</td>\n",
       "      <td>0</td>\n",
       "    </tr>\n",
       "    <tr>\n",
       "      <th>2023-09-13</th>\n",
       "      <td>795703</td>\n",
       "      <td>2023-09-13</td>\n",
       "      <td>1.0</td>\n",
       "      <td>229.0</td>\n",
       "      <td>229.0</td>\n",
       "      <td>30</td>\n",
       "      <td>365</td>\n",
       "      <td>2023</td>\n",
       "      <td>3</td>\n",
       "      <td>9</td>\n",
       "      <td>37</td>\n",
       "      <td>2</td>\n",
       "      <td>13</td>\n",
       "      <td>256</td>\n",
       "      <td>0</td>\n",
       "    </tr>\n",
       "    <tr>\n",
       "      <th>2023-09-14</th>\n",
       "      <td>795703</td>\n",
       "      <td>2023-09-14</td>\n",
       "      <td>1.0</td>\n",
       "      <td>229.0</td>\n",
       "      <td>229.0</td>\n",
       "      <td>30</td>\n",
       "      <td>365</td>\n",
       "      <td>2023</td>\n",
       "      <td>3</td>\n",
       "      <td>9</td>\n",
       "      <td>37</td>\n",
       "      <td>3</td>\n",
       "      <td>14</td>\n",
       "      <td>257</td>\n",
       "      <td>0</td>\n",
       "    </tr>\n",
       "    <tr>\n",
       "      <th>2023-09-15</th>\n",
       "      <td>795703</td>\n",
       "      <td>2023-09-15</td>\n",
       "      <td>1.0</td>\n",
       "      <td>279.0</td>\n",
       "      <td>279.0</td>\n",
       "      <td>30</td>\n",
       "      <td>365</td>\n",
       "      <td>2023</td>\n",
       "      <td>3</td>\n",
       "      <td>9</td>\n",
       "      <td>37</td>\n",
       "      <td>4</td>\n",
       "      <td>15</td>\n",
       "      <td>258</td>\n",
       "      <td>0</td>\n",
       "    </tr>\n",
       "    <tr>\n",
       "      <th>2023-09-16</th>\n",
       "      <td>795703</td>\n",
       "      <td>2023-09-16</td>\n",
       "      <td>1.0</td>\n",
       "      <td>279.0</td>\n",
       "      <td>279.0</td>\n",
       "      <td>30</td>\n",
       "      <td>365</td>\n",
       "      <td>2023</td>\n",
       "      <td>3</td>\n",
       "      <td>9</td>\n",
       "      <td>37</td>\n",
       "      <td>5</td>\n",
       "      <td>16</td>\n",
       "      <td>259</td>\n",
       "      <td>1</td>\n",
       "    </tr>\n",
       "    <tr>\n",
       "      <th>2023-09-17</th>\n",
       "      <td>795703</td>\n",
       "      <td>2023-09-17</td>\n",
       "      <td>1.0</td>\n",
       "      <td>229.0</td>\n",
       "      <td>229.0</td>\n",
       "      <td>30</td>\n",
       "      <td>365</td>\n",
       "      <td>2023</td>\n",
       "      <td>3</td>\n",
       "      <td>9</td>\n",
       "      <td>37</td>\n",
       "      <td>6</td>\n",
       "      <td>17</td>\n",
       "      <td>260</td>\n",
       "      <td>1</td>\n",
       "    </tr>\n",
       "    <tr>\n",
       "      <th>2023-09-18</th>\n",
       "      <td>795703</td>\n",
       "      <td>2023-09-18</td>\n",
       "      <td>1.0</td>\n",
       "      <td>229.0</td>\n",
       "      <td>229.0</td>\n",
       "      <td>30</td>\n",
       "      <td>365</td>\n",
       "      <td>2023</td>\n",
       "      <td>3</td>\n",
       "      <td>9</td>\n",
       "      <td>38</td>\n",
       "      <td>0</td>\n",
       "      <td>18</td>\n",
       "      <td>261</td>\n",
       "      <td>0</td>\n",
       "    </tr>\n",
       "    <tr>\n",
       "      <th>2023-09-19</th>\n",
       "      <td>795703</td>\n",
       "      <td>2023-09-19</td>\n",
       "      <td>1.0</td>\n",
       "      <td>229.0</td>\n",
       "      <td>229.0</td>\n",
       "      <td>30</td>\n",
       "      <td>365</td>\n",
       "      <td>2023</td>\n",
       "      <td>3</td>\n",
       "      <td>9</td>\n",
       "      <td>38</td>\n",
       "      <td>1</td>\n",
       "      <td>19</td>\n",
       "      <td>262</td>\n",
       "      <td>0</td>\n",
       "    </tr>\n",
       "    <tr>\n",
       "      <th>2023-09-20</th>\n",
       "      <td>795703</td>\n",
       "      <td>2023-09-20</td>\n",
       "      <td>1.0</td>\n",
       "      <td>229.0</td>\n",
       "      <td>229.0</td>\n",
       "      <td>30</td>\n",
       "      <td>365</td>\n",
       "      <td>2023</td>\n",
       "      <td>3</td>\n",
       "      <td>9</td>\n",
       "      <td>38</td>\n",
       "      <td>2</td>\n",
       "      <td>20</td>\n",
       "      <td>263</td>\n",
       "      <td>0</td>\n",
       "    </tr>\n",
       "    <tr>\n",
       "      <th>2023-09-21</th>\n",
       "      <td>795703</td>\n",
       "      <td>2023-09-21</td>\n",
       "      <td>1.0</td>\n",
       "      <td>229.0</td>\n",
       "      <td>229.0</td>\n",
       "      <td>30</td>\n",
       "      <td>365</td>\n",
       "      <td>2023</td>\n",
       "      <td>3</td>\n",
       "      <td>9</td>\n",
       "      <td>38</td>\n",
       "      <td>3</td>\n",
       "      <td>21</td>\n",
       "      <td>264</td>\n",
       "      <td>0</td>\n",
       "    </tr>\n",
       "  </tbody>\n",
       "</table>\n",
       "</div>"
      ],
      "text/plain": [
       "            listing_id       date  available  price  adjusted_price  \\\n",
       "date                                                                  \n",
       "2023-09-12      795703 2023-09-12        1.0  229.0           229.0   \n",
       "2023-09-13      795703 2023-09-13        1.0  229.0           229.0   \n",
       "2023-09-14      795703 2023-09-14        1.0  229.0           229.0   \n",
       "2023-09-15      795703 2023-09-15        1.0  279.0           279.0   \n",
       "2023-09-16      795703 2023-09-16        1.0  279.0           279.0   \n",
       "2023-09-17      795703 2023-09-17        1.0  229.0           229.0   \n",
       "2023-09-18      795703 2023-09-18        1.0  229.0           229.0   \n",
       "2023-09-19      795703 2023-09-19        1.0  229.0           229.0   \n",
       "2023-09-20      795703 2023-09-20        1.0  229.0           229.0   \n",
       "2023-09-21      795703 2023-09-21        1.0  229.0           229.0   \n",
       "\n",
       "            minimum_nights  maximum_nights  Year  Quarter  Month  Week  \\\n",
       "date                                                                     \n",
       "2023-09-12              30             365  2023        3      9    37   \n",
       "2023-09-13              30             365  2023        3      9    37   \n",
       "2023-09-14              30             365  2023        3      9    37   \n",
       "2023-09-15              30             365  2023        3      9    37   \n",
       "2023-09-16              30             365  2023        3      9    37   \n",
       "2023-09-17              30             365  2023        3      9    37   \n",
       "2023-09-18              30             365  2023        3      9    38   \n",
       "2023-09-19              30             365  2023        3      9    38   \n",
       "2023-09-20              30             365  2023        3      9    38   \n",
       "2023-09-21              30             365  2023        3      9    38   \n",
       "\n",
       "            Weekday  Day  Dayofyear  Weekend  \n",
       "date                                          \n",
       "2023-09-12        1   12        255        0  \n",
       "2023-09-13        2   13        256        0  \n",
       "2023-09-14        3   14        257        0  \n",
       "2023-09-15        4   15        258        0  \n",
       "2023-09-16        5   16        259        1  \n",
       "2023-09-17        6   17        260        1  \n",
       "2023-09-18        0   18        261        0  \n",
       "2023-09-19        1   19        262        0  \n",
       "2023-09-20        2   20        263        0  \n",
       "2023-09-21        3   21        264        0  "
      ]
     },
     "execution_count": 55,
     "metadata": {},
     "output_type": "execute_result"
    }
   ],
   "source": [
    "# selecting only the desired listing_id\n",
    "df_01 = df[df['listing_id'] == 795703]\n",
    "\n",
    "# checking the dataframe\n",
    "print(df_01.available.value_counts())\n",
    "df_01.head(10)"
   ]
  },
  {
   "cell_type": "markdown",
   "id": "f07e9ea4",
   "metadata": {},
   "source": [
    "For our project, we'll predict availability for a specific listing_id. So, moving on, we'll be working on `df_01`.\n",
    "\n",
    "As we have seen before, there are 365 rows in the dataset, one row for each of the 365 following days, counting from `2023-10-02`."
   ]
  },
  {
   "cell_type": "markdown",
   "id": "68633de4",
   "metadata": {},
   "source": [
    "### Preparing for Time Series Prediction\n",
    "We're going to prepare the data for weekly predctions."
   ]
  },
  {
   "cell_type": "code",
   "execution_count": 56,
   "id": "8ed4e528",
   "metadata": {},
   "outputs": [
    {
     "data": {
      "application/vnd.plotly.v1+json": {
       "config": {
        "plotlyServerURL": "https://plot.ly"
       },
       "data": [
        {
         "hovertemplate": "date=%{x}<br>available=%{y}<extra></extra>",
         "legendgroup": "",
         "line": {
          "color": "#636efa",
          "dash": "solid"
         },
         "marker": {
          "symbol": "circle"
         },
         "mode": "lines",
         "name": "",
         "orientation": "v",
         "showlegend": false,
         "type": "scatter",
         "x": [
          "2023-09-12T00:00:00",
          "2023-09-13T00:00:00",
          "2023-09-14T00:00:00",
          "2023-09-15T00:00:00",
          "2023-09-16T00:00:00",
          "2023-09-17T00:00:00",
          "2023-09-18T00:00:00",
          "2023-09-19T00:00:00",
          "2023-09-20T00:00:00",
          "2023-09-21T00:00:00",
          "2023-09-22T00:00:00",
          "2023-09-23T00:00:00",
          "2023-09-24T00:00:00",
          "2023-09-25T00:00:00",
          "2023-09-26T00:00:00",
          "2023-09-27T00:00:00",
          "2023-09-28T00:00:00",
          "2023-09-29T00:00:00",
          "2023-09-30T00:00:00",
          "2023-10-01T00:00:00",
          "2023-10-02T00:00:00",
          "2023-10-03T00:00:00",
          "2023-10-04T00:00:00",
          "2023-10-05T00:00:00",
          "2023-10-06T00:00:00",
          "2023-10-07T00:00:00",
          "2023-10-08T00:00:00",
          "2023-10-09T00:00:00",
          "2023-10-10T00:00:00",
          "2023-10-11T00:00:00",
          "2023-10-12T00:00:00",
          "2023-10-13T00:00:00",
          "2023-10-14T00:00:00",
          "2023-10-15T00:00:00",
          "2023-10-16T00:00:00",
          "2023-10-17T00:00:00",
          "2023-10-18T00:00:00",
          "2023-10-19T00:00:00",
          "2023-10-20T00:00:00",
          "2023-10-21T00:00:00",
          "2023-10-22T00:00:00",
          "2023-10-23T00:00:00",
          "2023-10-24T00:00:00",
          "2023-10-25T00:00:00",
          "2023-10-26T00:00:00",
          "2023-10-27T00:00:00",
          "2023-10-28T00:00:00",
          "2023-10-29T00:00:00",
          "2023-10-30T00:00:00",
          "2023-10-31T00:00:00",
          "2023-11-01T00:00:00",
          "2023-11-02T00:00:00",
          "2023-11-03T00:00:00",
          "2023-11-04T00:00:00",
          "2023-11-05T00:00:00",
          "2023-11-06T00:00:00",
          "2023-11-07T00:00:00",
          "2023-11-08T00:00:00",
          "2023-11-09T00:00:00",
          "2023-11-10T00:00:00",
          "2023-11-11T00:00:00",
          "2023-11-12T00:00:00",
          "2023-11-13T00:00:00",
          "2023-11-14T00:00:00",
          "2023-11-15T00:00:00",
          "2023-11-16T00:00:00",
          "2023-11-17T00:00:00",
          "2023-11-18T00:00:00",
          "2023-11-19T00:00:00",
          "2023-11-20T00:00:00",
          "2023-11-21T00:00:00",
          "2023-11-22T00:00:00",
          "2023-11-23T00:00:00",
          "2023-11-24T00:00:00",
          "2023-11-25T00:00:00",
          "2023-11-26T00:00:00",
          "2023-11-27T00:00:00",
          "2023-11-28T00:00:00",
          "2023-11-29T00:00:00",
          "2023-11-30T00:00:00",
          "2023-12-01T00:00:00",
          "2023-12-02T00:00:00",
          "2023-12-03T00:00:00",
          "2023-12-04T00:00:00",
          "2023-12-05T00:00:00",
          "2023-12-06T00:00:00",
          "2023-12-07T00:00:00",
          "2023-12-08T00:00:00",
          "2023-12-09T00:00:00",
          "2023-12-10T00:00:00",
          "2023-12-11T00:00:00",
          "2023-12-12T00:00:00",
          "2023-12-13T00:00:00",
          "2023-12-14T00:00:00",
          "2023-12-15T00:00:00",
          "2023-12-16T00:00:00",
          "2023-12-17T00:00:00",
          "2023-12-18T00:00:00",
          "2023-12-19T00:00:00",
          "2023-12-20T00:00:00",
          "2023-12-21T00:00:00",
          "2023-12-22T00:00:00",
          "2023-12-23T00:00:00",
          "2023-12-24T00:00:00",
          "2023-12-25T00:00:00",
          "2023-12-26T00:00:00",
          "2023-12-27T00:00:00",
          "2023-12-28T00:00:00",
          "2023-12-29T00:00:00",
          "2023-12-30T00:00:00",
          "2023-12-31T00:00:00",
          "2024-01-01T00:00:00",
          "2024-01-02T00:00:00",
          "2024-01-03T00:00:00",
          "2024-01-04T00:00:00",
          "2024-01-05T00:00:00",
          "2024-01-06T00:00:00",
          "2024-01-07T00:00:00",
          "2024-01-08T00:00:00",
          "2024-01-09T00:00:00",
          "2024-01-10T00:00:00",
          "2024-01-11T00:00:00",
          "2024-01-12T00:00:00",
          "2024-01-13T00:00:00",
          "2024-01-14T00:00:00",
          "2024-01-15T00:00:00",
          "2024-01-16T00:00:00",
          "2024-01-17T00:00:00",
          "2024-01-18T00:00:00",
          "2024-01-19T00:00:00",
          "2024-01-20T00:00:00",
          "2024-01-21T00:00:00",
          "2024-01-22T00:00:00",
          "2024-01-23T00:00:00",
          "2024-01-24T00:00:00",
          "2024-01-25T00:00:00",
          "2024-01-26T00:00:00",
          "2024-01-27T00:00:00",
          "2024-01-28T00:00:00",
          "2024-01-29T00:00:00",
          "2024-01-30T00:00:00",
          "2024-01-31T00:00:00",
          "2024-02-01T00:00:00",
          "2024-02-02T00:00:00",
          "2024-02-03T00:00:00",
          "2024-02-04T00:00:00",
          "2024-02-05T00:00:00",
          "2024-02-06T00:00:00",
          "2024-02-07T00:00:00",
          "2024-02-08T00:00:00",
          "2024-02-09T00:00:00",
          "2024-02-10T00:00:00",
          "2024-02-11T00:00:00",
          "2024-02-12T00:00:00",
          "2024-02-13T00:00:00",
          "2024-02-14T00:00:00",
          "2024-02-15T00:00:00",
          "2024-02-16T00:00:00",
          "2024-02-17T00:00:00",
          "2024-02-18T00:00:00",
          "2024-02-19T00:00:00",
          "2024-02-20T00:00:00",
          "2024-02-21T00:00:00",
          "2024-02-22T00:00:00",
          "2024-02-23T00:00:00",
          "2024-02-24T00:00:00",
          "2024-02-25T00:00:00",
          "2024-02-26T00:00:00",
          "2024-02-27T00:00:00",
          "2024-02-28T00:00:00",
          "2024-02-29T00:00:00",
          "2024-03-01T00:00:00",
          "2024-03-02T00:00:00",
          "2024-03-03T00:00:00",
          "2024-03-04T00:00:00",
          "2024-03-05T00:00:00",
          "2024-03-06T00:00:00",
          "2024-03-07T00:00:00",
          "2024-03-08T00:00:00",
          "2024-03-09T00:00:00",
          "2024-03-10T00:00:00",
          "2024-03-11T00:00:00",
          "2024-03-12T00:00:00",
          "2024-03-13T00:00:00",
          "2024-03-14T00:00:00",
          "2024-03-15T00:00:00",
          "2024-03-16T00:00:00",
          "2024-03-17T00:00:00",
          "2024-03-18T00:00:00",
          "2024-03-19T00:00:00",
          "2024-03-20T00:00:00",
          "2024-03-21T00:00:00",
          "2024-03-22T00:00:00",
          "2024-03-23T00:00:00",
          "2024-03-24T00:00:00",
          "2024-03-25T00:00:00",
          "2024-03-26T00:00:00",
          "2024-03-27T00:00:00",
          "2024-03-28T00:00:00",
          "2024-03-29T00:00:00",
          "2024-03-30T00:00:00",
          "2024-03-31T00:00:00",
          "2024-04-01T00:00:00",
          "2024-04-02T00:00:00",
          "2024-04-03T00:00:00",
          "2024-04-04T00:00:00",
          "2024-04-05T00:00:00",
          "2024-04-06T00:00:00",
          "2024-04-07T00:00:00",
          "2024-04-08T00:00:00",
          "2024-04-09T00:00:00",
          "2024-04-10T00:00:00",
          "2024-04-11T00:00:00",
          "2024-04-12T00:00:00",
          "2024-04-13T00:00:00",
          "2024-04-14T00:00:00",
          "2024-04-15T00:00:00",
          "2024-04-16T00:00:00",
          "2024-04-17T00:00:00",
          "2024-04-18T00:00:00",
          "2024-04-19T00:00:00",
          "2024-04-20T00:00:00",
          "2024-04-21T00:00:00",
          "2024-04-22T00:00:00",
          "2024-04-23T00:00:00",
          "2024-04-24T00:00:00",
          "2024-04-25T00:00:00",
          "2024-04-26T00:00:00",
          "2024-04-27T00:00:00",
          "2024-04-28T00:00:00",
          "2024-04-29T00:00:00",
          "2024-04-30T00:00:00",
          "2024-05-01T00:00:00",
          "2024-05-02T00:00:00",
          "2024-05-03T00:00:00",
          "2024-05-04T00:00:00",
          "2024-05-05T00:00:00",
          "2024-05-06T00:00:00",
          "2024-05-07T00:00:00",
          "2024-05-08T00:00:00",
          "2024-05-09T00:00:00",
          "2024-05-10T00:00:00",
          "2024-05-11T00:00:00",
          "2024-05-12T00:00:00",
          "2024-05-13T00:00:00",
          "2024-05-14T00:00:00",
          "2024-05-15T00:00:00",
          "2024-05-16T00:00:00",
          "2024-05-17T00:00:00",
          "2024-05-18T00:00:00",
          "2024-05-19T00:00:00",
          "2024-05-20T00:00:00",
          "2024-05-21T00:00:00",
          "2024-05-22T00:00:00",
          "2024-05-23T00:00:00",
          "2024-05-24T00:00:00",
          "2024-05-25T00:00:00",
          "2024-05-26T00:00:00",
          "2024-05-27T00:00:00",
          "2024-05-28T00:00:00",
          "2024-05-29T00:00:00",
          "2024-05-30T00:00:00",
          "2024-05-31T00:00:00",
          "2024-06-01T00:00:00",
          "2024-06-02T00:00:00",
          "2024-06-03T00:00:00",
          "2024-06-04T00:00:00",
          "2024-06-05T00:00:00",
          "2024-06-06T00:00:00",
          "2024-06-07T00:00:00",
          "2024-06-08T00:00:00",
          "2024-06-09T00:00:00",
          "2024-06-10T00:00:00",
          "2024-06-11T00:00:00",
          "2024-06-12T00:00:00",
          "2024-06-13T00:00:00",
          "2024-06-14T00:00:00",
          "2024-06-15T00:00:00",
          "2024-06-16T00:00:00",
          "2024-06-17T00:00:00",
          "2024-06-18T00:00:00",
          "2024-06-19T00:00:00",
          "2024-06-20T00:00:00",
          "2024-06-21T00:00:00",
          "2024-06-22T00:00:00",
          "2024-06-23T00:00:00",
          "2024-06-24T00:00:00",
          "2024-06-25T00:00:00",
          "2024-06-26T00:00:00",
          "2024-06-27T00:00:00",
          "2024-06-28T00:00:00",
          "2024-06-29T00:00:00",
          "2024-06-30T00:00:00",
          "2024-07-01T00:00:00",
          "2024-07-02T00:00:00",
          "2024-07-03T00:00:00",
          "2024-07-04T00:00:00",
          "2024-07-05T00:00:00",
          "2024-07-06T00:00:00",
          "2024-07-07T00:00:00",
          "2024-07-08T00:00:00",
          "2024-07-09T00:00:00",
          "2024-07-10T00:00:00",
          "2024-07-11T00:00:00",
          "2024-07-12T00:00:00",
          "2024-07-13T00:00:00",
          "2024-07-14T00:00:00",
          "2024-07-15T00:00:00",
          "2024-07-16T00:00:00",
          "2024-07-17T00:00:00",
          "2024-07-18T00:00:00",
          "2024-07-19T00:00:00",
          "2024-07-20T00:00:00",
          "2024-07-21T00:00:00",
          "2024-07-22T00:00:00",
          "2024-07-23T00:00:00",
          "2024-07-24T00:00:00",
          "2024-07-25T00:00:00",
          "2024-07-26T00:00:00",
          "2024-07-27T00:00:00",
          "2024-07-28T00:00:00",
          "2024-07-29T00:00:00",
          "2024-07-30T00:00:00",
          "2024-07-31T00:00:00",
          "2024-08-01T00:00:00",
          "2024-08-02T00:00:00",
          "2024-08-03T00:00:00",
          "2024-08-04T00:00:00",
          "2024-08-05T00:00:00",
          "2024-08-06T00:00:00",
          "2024-08-07T00:00:00",
          "2024-08-08T00:00:00",
          "2024-08-09T00:00:00",
          "2024-08-10T00:00:00",
          "2024-08-11T00:00:00",
          "2024-08-12T00:00:00",
          "2024-08-13T00:00:00",
          "2024-08-14T00:00:00",
          "2024-08-15T00:00:00",
          "2024-08-16T00:00:00",
          "2024-08-17T00:00:00",
          "2024-08-18T00:00:00",
          "2024-08-19T00:00:00",
          "2024-08-20T00:00:00",
          "2024-08-21T00:00:00",
          "2024-08-22T00:00:00",
          "2024-08-23T00:00:00",
          "2024-08-24T00:00:00",
          "2024-08-25T00:00:00",
          "2024-08-26T00:00:00",
          "2024-08-27T00:00:00",
          "2024-08-28T00:00:00",
          "2024-08-29T00:00:00",
          "2024-08-30T00:00:00",
          "2024-08-31T00:00:00",
          "2024-09-01T00:00:00",
          "2024-09-02T00:00:00",
          "2024-09-03T00:00:00",
          "2024-09-04T00:00:00",
          "2024-09-05T00:00:00",
          "2024-09-06T00:00:00",
          "2024-09-07T00:00:00",
          "2024-09-08T00:00:00",
          "2024-09-09T00:00:00",
          "2024-09-10T00:00:00"
         ],
         "xaxis": "x",
         "y": [
          1,
          1,
          1,
          1,
          1,
          1,
          1,
          1,
          1,
          1,
          1,
          1,
          1,
          1,
          1,
          1,
          1,
          1,
          1,
          1,
          1,
          0,
          0,
          0,
          0,
          0,
          0,
          0,
          0,
          0,
          0,
          0,
          0,
          0,
          0,
          0,
          0,
          0,
          0,
          0,
          0,
          0,
          0,
          0,
          0,
          0,
          0,
          0,
          0,
          0,
          0,
          0,
          0,
          0,
          0,
          0,
          0,
          0,
          0,
          0,
          0,
          0,
          0,
          0,
          0,
          0,
          0,
          0,
          0,
          0,
          0,
          0,
          0,
          0,
          0,
          0,
          0,
          0,
          0,
          0,
          0,
          0,
          0,
          0,
          0,
          0,
          0,
          0,
          0,
          0,
          0,
          0,
          0,
          0,
          0,
          0,
          0,
          0,
          0,
          0,
          0,
          0,
          0,
          0,
          0,
          0,
          0,
          0,
          0,
          0,
          0,
          0,
          0,
          0,
          0,
          0,
          0,
          0,
          0,
          0,
          0,
          0,
          0,
          0,
          0,
          0,
          0,
          0,
          0,
          0,
          0,
          0,
          0,
          0,
          0,
          0,
          0,
          0,
          0,
          0,
          0,
          0,
          0,
          0,
          0,
          0,
          0,
          0,
          0,
          0,
          0,
          0,
          0,
          0,
          0,
          0,
          0,
          0,
          0,
          0,
          0,
          0,
          0,
          0,
          0,
          0,
          0,
          0,
          0,
          0,
          0,
          0,
          0,
          0,
          0,
          0,
          0,
          0,
          0,
          0,
          0,
          0,
          0,
          0,
          0,
          0,
          0,
          0,
          0,
          0,
          0,
          0,
          0,
          0,
          0,
          0,
          0,
          0,
          0,
          0,
          0,
          0,
          0,
          0,
          0,
          0,
          0,
          0,
          0,
          0,
          0,
          0,
          0,
          0,
          0,
          0,
          0,
          0,
          0,
          0,
          0,
          0,
          0,
          0,
          0,
          0,
          0,
          0,
          0,
          0,
          0,
          0,
          0,
          0,
          0,
          0,
          0,
          0,
          0,
          0,
          0,
          0,
          0,
          0,
          0,
          0,
          0,
          0,
          0,
          0,
          0,
          0,
          0,
          0,
          0,
          0,
          0,
          0,
          0,
          0,
          0,
          0,
          0,
          0,
          0,
          0,
          0,
          0,
          0,
          0,
          1,
          1,
          1,
          1,
          1,
          1,
          1,
          1,
          1,
          1,
          1,
          1,
          1,
          1,
          1,
          1,
          1,
          1,
          1,
          1,
          1,
          1,
          1,
          1,
          1,
          1,
          1,
          1,
          1,
          1,
          1,
          1,
          1,
          1,
          1,
          1,
          1,
          1,
          1,
          1,
          1,
          1,
          1,
          1,
          1,
          1,
          1,
          1,
          1,
          1,
          1,
          1,
          1,
          1,
          1,
          1,
          1,
          1,
          1,
          1,
          1,
          1,
          1,
          1,
          1,
          1,
          1,
          1,
          1,
          1,
          1,
          1,
          1,
          1,
          1,
          1,
          1,
          1,
          1,
          1,
          1,
          1,
          1,
          1,
          1,
          1,
          1,
          1,
          1,
          1,
          1,
          1,
          1,
          1,
          1
         ],
         "yaxis": "y"
        }
       ],
       "layout": {
        "legend": {
         "tracegroupgap": 0
        },
        "template": {
         "data": {
          "bar": [
           {
            "error_x": {
             "color": "#2a3f5f"
            },
            "error_y": {
             "color": "#2a3f5f"
            },
            "marker": {
             "line": {
              "color": "#E5ECF6",
              "width": 0.5
             },
             "pattern": {
              "fillmode": "overlay",
              "size": 10,
              "solidity": 0.2
             }
            },
            "type": "bar"
           }
          ],
          "barpolar": [
           {
            "marker": {
             "line": {
              "color": "#E5ECF6",
              "width": 0.5
             },
             "pattern": {
              "fillmode": "overlay",
              "size": 10,
              "solidity": 0.2
             }
            },
            "type": "barpolar"
           }
          ],
          "carpet": [
           {
            "aaxis": {
             "endlinecolor": "#2a3f5f",
             "gridcolor": "white",
             "linecolor": "white",
             "minorgridcolor": "white",
             "startlinecolor": "#2a3f5f"
            },
            "baxis": {
             "endlinecolor": "#2a3f5f",
             "gridcolor": "white",
             "linecolor": "white",
             "minorgridcolor": "white",
             "startlinecolor": "#2a3f5f"
            },
            "type": "carpet"
           }
          ],
          "choropleth": [
           {
            "colorbar": {
             "outlinewidth": 0,
             "ticks": ""
            },
            "type": "choropleth"
           }
          ],
          "contour": [
           {
            "colorbar": {
             "outlinewidth": 0,
             "ticks": ""
            },
            "colorscale": [
             [
              0,
              "#0d0887"
             ],
             [
              0.1111111111111111,
              "#46039f"
             ],
             [
              0.2222222222222222,
              "#7201a8"
             ],
             [
              0.3333333333333333,
              "#9c179e"
             ],
             [
              0.4444444444444444,
              "#bd3786"
             ],
             [
              0.5555555555555556,
              "#d8576b"
             ],
             [
              0.6666666666666666,
              "#ed7953"
             ],
             [
              0.7777777777777778,
              "#fb9f3a"
             ],
             [
              0.8888888888888888,
              "#fdca26"
             ],
             [
              1,
              "#f0f921"
             ]
            ],
            "type": "contour"
           }
          ],
          "contourcarpet": [
           {
            "colorbar": {
             "outlinewidth": 0,
             "ticks": ""
            },
            "type": "contourcarpet"
           }
          ],
          "heatmap": [
           {
            "colorbar": {
             "outlinewidth": 0,
             "ticks": ""
            },
            "colorscale": [
             [
              0,
              "#0d0887"
             ],
             [
              0.1111111111111111,
              "#46039f"
             ],
             [
              0.2222222222222222,
              "#7201a8"
             ],
             [
              0.3333333333333333,
              "#9c179e"
             ],
             [
              0.4444444444444444,
              "#bd3786"
             ],
             [
              0.5555555555555556,
              "#d8576b"
             ],
             [
              0.6666666666666666,
              "#ed7953"
             ],
             [
              0.7777777777777778,
              "#fb9f3a"
             ],
             [
              0.8888888888888888,
              "#fdca26"
             ],
             [
              1,
              "#f0f921"
             ]
            ],
            "type": "heatmap"
           }
          ],
          "heatmapgl": [
           {
            "colorbar": {
             "outlinewidth": 0,
             "ticks": ""
            },
            "colorscale": [
             [
              0,
              "#0d0887"
             ],
             [
              0.1111111111111111,
              "#46039f"
             ],
             [
              0.2222222222222222,
              "#7201a8"
             ],
             [
              0.3333333333333333,
              "#9c179e"
             ],
             [
              0.4444444444444444,
              "#bd3786"
             ],
             [
              0.5555555555555556,
              "#d8576b"
             ],
             [
              0.6666666666666666,
              "#ed7953"
             ],
             [
              0.7777777777777778,
              "#fb9f3a"
             ],
             [
              0.8888888888888888,
              "#fdca26"
             ],
             [
              1,
              "#f0f921"
             ]
            ],
            "type": "heatmapgl"
           }
          ],
          "histogram": [
           {
            "marker": {
             "pattern": {
              "fillmode": "overlay",
              "size": 10,
              "solidity": 0.2
             }
            },
            "type": "histogram"
           }
          ],
          "histogram2d": [
           {
            "colorbar": {
             "outlinewidth": 0,
             "ticks": ""
            },
            "colorscale": [
             [
              0,
              "#0d0887"
             ],
             [
              0.1111111111111111,
              "#46039f"
             ],
             [
              0.2222222222222222,
              "#7201a8"
             ],
             [
              0.3333333333333333,
              "#9c179e"
             ],
             [
              0.4444444444444444,
              "#bd3786"
             ],
             [
              0.5555555555555556,
              "#d8576b"
             ],
             [
              0.6666666666666666,
              "#ed7953"
             ],
             [
              0.7777777777777778,
              "#fb9f3a"
             ],
             [
              0.8888888888888888,
              "#fdca26"
             ],
             [
              1,
              "#f0f921"
             ]
            ],
            "type": "histogram2d"
           }
          ],
          "histogram2dcontour": [
           {
            "colorbar": {
             "outlinewidth": 0,
             "ticks": ""
            },
            "colorscale": [
             [
              0,
              "#0d0887"
             ],
             [
              0.1111111111111111,
              "#46039f"
             ],
             [
              0.2222222222222222,
              "#7201a8"
             ],
             [
              0.3333333333333333,
              "#9c179e"
             ],
             [
              0.4444444444444444,
              "#bd3786"
             ],
             [
              0.5555555555555556,
              "#d8576b"
             ],
             [
              0.6666666666666666,
              "#ed7953"
             ],
             [
              0.7777777777777778,
              "#fb9f3a"
             ],
             [
              0.8888888888888888,
              "#fdca26"
             ],
             [
              1,
              "#f0f921"
             ]
            ],
            "type": "histogram2dcontour"
           }
          ],
          "mesh3d": [
           {
            "colorbar": {
             "outlinewidth": 0,
             "ticks": ""
            },
            "type": "mesh3d"
           }
          ],
          "parcoords": [
           {
            "line": {
             "colorbar": {
              "outlinewidth": 0,
              "ticks": ""
             }
            },
            "type": "parcoords"
           }
          ],
          "pie": [
           {
            "automargin": true,
            "type": "pie"
           }
          ],
          "scatter": [
           {
            "fillpattern": {
             "fillmode": "overlay",
             "size": 10,
             "solidity": 0.2
            },
            "type": "scatter"
           }
          ],
          "scatter3d": [
           {
            "line": {
             "colorbar": {
              "outlinewidth": 0,
              "ticks": ""
             }
            },
            "marker": {
             "colorbar": {
              "outlinewidth": 0,
              "ticks": ""
             }
            },
            "type": "scatter3d"
           }
          ],
          "scattercarpet": [
           {
            "marker": {
             "colorbar": {
              "outlinewidth": 0,
              "ticks": ""
             }
            },
            "type": "scattercarpet"
           }
          ],
          "scattergeo": [
           {
            "marker": {
             "colorbar": {
              "outlinewidth": 0,
              "ticks": ""
             }
            },
            "type": "scattergeo"
           }
          ],
          "scattergl": [
           {
            "marker": {
             "colorbar": {
              "outlinewidth": 0,
              "ticks": ""
             }
            },
            "type": "scattergl"
           }
          ],
          "scattermapbox": [
           {
            "marker": {
             "colorbar": {
              "outlinewidth": 0,
              "ticks": ""
             }
            },
            "type": "scattermapbox"
           }
          ],
          "scatterpolar": [
           {
            "marker": {
             "colorbar": {
              "outlinewidth": 0,
              "ticks": ""
             }
            },
            "type": "scatterpolar"
           }
          ],
          "scatterpolargl": [
           {
            "marker": {
             "colorbar": {
              "outlinewidth": 0,
              "ticks": ""
             }
            },
            "type": "scatterpolargl"
           }
          ],
          "scatterternary": [
           {
            "marker": {
             "colorbar": {
              "outlinewidth": 0,
              "ticks": ""
             }
            },
            "type": "scatterternary"
           }
          ],
          "surface": [
           {
            "colorbar": {
             "outlinewidth": 0,
             "ticks": ""
            },
            "colorscale": [
             [
              0,
              "#0d0887"
             ],
             [
              0.1111111111111111,
              "#46039f"
             ],
             [
              0.2222222222222222,
              "#7201a8"
             ],
             [
              0.3333333333333333,
              "#9c179e"
             ],
             [
              0.4444444444444444,
              "#bd3786"
             ],
             [
              0.5555555555555556,
              "#d8576b"
             ],
             [
              0.6666666666666666,
              "#ed7953"
             ],
             [
              0.7777777777777778,
              "#fb9f3a"
             ],
             [
              0.8888888888888888,
              "#fdca26"
             ],
             [
              1,
              "#f0f921"
             ]
            ],
            "type": "surface"
           }
          ],
          "table": [
           {
            "cells": {
             "fill": {
              "color": "#EBF0F8"
             },
             "line": {
              "color": "white"
             }
            },
            "header": {
             "fill": {
              "color": "#C8D4E3"
             },
             "line": {
              "color": "white"
             }
            },
            "type": "table"
           }
          ]
         },
         "layout": {
          "annotationdefaults": {
           "arrowcolor": "#2a3f5f",
           "arrowhead": 0,
           "arrowwidth": 1
          },
          "autotypenumbers": "strict",
          "coloraxis": {
           "colorbar": {
            "outlinewidth": 0,
            "ticks": ""
           }
          },
          "colorscale": {
           "diverging": [
            [
             0,
             "#8e0152"
            ],
            [
             0.1,
             "#c51b7d"
            ],
            [
             0.2,
             "#de77ae"
            ],
            [
             0.3,
             "#f1b6da"
            ],
            [
             0.4,
             "#fde0ef"
            ],
            [
             0.5,
             "#f7f7f7"
            ],
            [
             0.6,
             "#e6f5d0"
            ],
            [
             0.7,
             "#b8e186"
            ],
            [
             0.8,
             "#7fbc41"
            ],
            [
             0.9,
             "#4d9221"
            ],
            [
             1,
             "#276419"
            ]
           ],
           "sequential": [
            [
             0,
             "#0d0887"
            ],
            [
             0.1111111111111111,
             "#46039f"
            ],
            [
             0.2222222222222222,
             "#7201a8"
            ],
            [
             0.3333333333333333,
             "#9c179e"
            ],
            [
             0.4444444444444444,
             "#bd3786"
            ],
            [
             0.5555555555555556,
             "#d8576b"
            ],
            [
             0.6666666666666666,
             "#ed7953"
            ],
            [
             0.7777777777777778,
             "#fb9f3a"
            ],
            [
             0.8888888888888888,
             "#fdca26"
            ],
            [
             1,
             "#f0f921"
            ]
           ],
           "sequentialminus": [
            [
             0,
             "#0d0887"
            ],
            [
             0.1111111111111111,
             "#46039f"
            ],
            [
             0.2222222222222222,
             "#7201a8"
            ],
            [
             0.3333333333333333,
             "#9c179e"
            ],
            [
             0.4444444444444444,
             "#bd3786"
            ],
            [
             0.5555555555555556,
             "#d8576b"
            ],
            [
             0.6666666666666666,
             "#ed7953"
            ],
            [
             0.7777777777777778,
             "#fb9f3a"
            ],
            [
             0.8888888888888888,
             "#fdca26"
            ],
            [
             1,
             "#f0f921"
            ]
           ]
          },
          "colorway": [
           "#636efa",
           "#EF553B",
           "#00cc96",
           "#ab63fa",
           "#FFA15A",
           "#19d3f3",
           "#FF6692",
           "#B6E880",
           "#FF97FF",
           "#FECB52"
          ],
          "font": {
           "color": "#2a3f5f"
          },
          "geo": {
           "bgcolor": "white",
           "lakecolor": "white",
           "landcolor": "#E5ECF6",
           "showlakes": true,
           "showland": true,
           "subunitcolor": "white"
          },
          "hoverlabel": {
           "align": "left"
          },
          "hovermode": "closest",
          "mapbox": {
           "style": "light"
          },
          "paper_bgcolor": "white",
          "plot_bgcolor": "#E5ECF6",
          "polar": {
           "angularaxis": {
            "gridcolor": "white",
            "linecolor": "white",
            "ticks": ""
           },
           "bgcolor": "#E5ECF6",
           "radialaxis": {
            "gridcolor": "white",
            "linecolor": "white",
            "ticks": ""
           }
          },
          "scene": {
           "xaxis": {
            "backgroundcolor": "#E5ECF6",
            "gridcolor": "white",
            "gridwidth": 2,
            "linecolor": "white",
            "showbackground": true,
            "ticks": "",
            "zerolinecolor": "white"
           },
           "yaxis": {
            "backgroundcolor": "#E5ECF6",
            "gridcolor": "white",
            "gridwidth": 2,
            "linecolor": "white",
            "showbackground": true,
            "ticks": "",
            "zerolinecolor": "white"
           },
           "zaxis": {
            "backgroundcolor": "#E5ECF6",
            "gridcolor": "white",
            "gridwidth": 2,
            "linecolor": "white",
            "showbackground": true,
            "ticks": "",
            "zerolinecolor": "white"
           }
          },
          "shapedefaults": {
           "line": {
            "color": "#2a3f5f"
           }
          },
          "ternary": {
           "aaxis": {
            "gridcolor": "white",
            "linecolor": "white",
            "ticks": ""
           },
           "baxis": {
            "gridcolor": "white",
            "linecolor": "white",
            "ticks": ""
           },
           "bgcolor": "#E5ECF6",
           "caxis": {
            "gridcolor": "white",
            "linecolor": "white",
            "ticks": ""
           }
          },
          "title": {
           "x": 0.05
          },
          "xaxis": {
           "automargin": true,
           "gridcolor": "white",
           "linecolor": "white",
           "ticks": "",
           "title": {
            "standoff": 15
           },
           "zerolinecolor": "white",
           "zerolinewidth": 2
          },
          "yaxis": {
           "automargin": true,
           "gridcolor": "white",
           "linecolor": "white",
           "ticks": "",
           "title": {
            "standoff": 15
           },
           "zerolinecolor": "white",
           "zerolinewidth": 2
          }
         }
        },
        "title": {
         "text": "Availability Over Time"
        },
        "xaxis": {
         "anchor": "y",
         "domain": [
          0,
          1
         ],
         "title": {
          "text": "Date"
         }
        },
        "yaxis": {
         "anchor": "x",
         "domain": [
          0,
          1
         ],
         "title": {
          "text": "Available"
         }
        }
       }
      }
     },
     "metadata": {},
     "output_type": "display_data"
    }
   ],
   "source": [
    "import plotly.express as px\n",
    "\n",
    "# Assuming you have a DataFrame named df_01\n",
    "\n",
    "# Create a time series plot using Plotly Express\n",
    "fig = px.line(df_01, x='date', y='available', title='Availability Over Time')\n",
    "fig.update_xaxes(title_text='Date')\n",
    "fig.update_yaxes(title_text='Available')\n",
    "\n",
    "# Show the plot\n",
    "fig.show()\n"
   ]
  },
  {
   "cell_type": "markdown",
   "id": "65641eca",
   "metadata": {},
   "source": [
    "## Saving the Data\n",
    "Let's save the transformed data so we can use it in the next steps."
   ]
  },
  {
   "cell_type": "code",
   "execution_count": 57,
   "id": "8b8cbdab",
   "metadata": {},
   "outputs": [],
   "source": [
    "df.to_parquet('../data/transformed/dallas-calendar_clean-2023-09-12.parquet')"
   ]
  },
  {
   "cell_type": "code",
   "execution_count": null,
   "id": "1f7efc5a",
   "metadata": {},
   "outputs": [],
   "source": []
  }
 ],
 "metadata": {
  "kernelspec": {
   "display_name": "Python 3",
   "language": "python",
   "name": "python3"
  },
  "language_info": {
   "codemirror_mode": {
    "name": "ipython",
    "version": 3
   },
   "file_extension": ".py",
   "mimetype": "text/x-python",
   "name": "python",
   "nbconvert_exporter": "python",
   "pygments_lexer": "ipython3",
   "version": "3.8.8"
  }
 },
 "nbformat": 4,
 "nbformat_minor": 5
}
