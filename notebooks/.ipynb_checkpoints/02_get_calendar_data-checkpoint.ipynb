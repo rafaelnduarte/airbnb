{
 "cells": [
  {
   "cell_type": "code",
   "execution_count": 1,
   "id": "d69abf8c",
   "metadata": {},
   "outputs": [],
   "source": [
    "# import necessary libraries\n",
    "from pathlib import Path\n",
    "import requests\n",
    "import pandas as pd\n",
    "from io import BytesIO\n",
    "import gzip\n",
    "import shutil\n",
    "\n",
    "def download_one_file(year: int, month: int, day: int) -> pd.DataFrame:\n",
    "    \"\"\"\n",
    "    Downloads calendar data for a given year and month from Inside Airbnb and saves it as a Parquet file.\n",
    "\n",
    "    Args:\n",
    "    - year (int): The year of the data to download.\n",
    "    - month (int): The month of the data to download.\n",
    "    - day (int): The day of the data to download.\n",
    "\n",
    "    Returns:\n",
    "    - df (pd.DataFrame): The DataFrame containing the downloaded data.\n",
    "    \"\"\"\n",
    "    URL = f'http://data.insideairbnb.com/united-states/ny/new-york-city/{year}-{month:02d}-{day:02d}/data/calendar.csv.gz'\n",
    "    response = requests.get(URL)\n",
    "\n",
    "    if response.status_code == 200:\n",
    "        path = f'../data/raw/new-york-city/calendar-{year}-{month:02d}-{day:02d}.parquet'\n",
    "\n",
    "        with open(path, 'wb') as file:\n",
    "            file.write(response.content)\n",
    "\n",
    "        # Decompress the gzipped file and read it with Pandas\n",
    "        with gzip.open(path, 'rb') as f:\n",
    "            df = pd.read_csv(f, encoding='utf-8', delimiter=',')\n",
    "        \n",
    "        # Save the DataFrame as a Parquet file\n",
    "        df.to_parquet(path.replace('.parquet', '.csv.parquet'), engine='pyarrow', compression='snappy')\n",
    "\n",
    "        return df\n",
    "    else:\n",
    "        raise Exception(f'{URL} is not available.')\n"
   ]
  },
  {
   "cell_type": "code",
   "execution_count": 4,
   "id": "a8d52755",
   "metadata": {},
   "outputs": [
    {
     "ename": "Exception",
     "evalue": "http://data.insideairbnb.com/united-states/ny/new-york-city/2023-08-01/data/calendar.csv.gz is not available.",
     "output_type": "error",
     "traceback": [
      "\u001b[0;31m---------------------------------------------------------------------------\u001b[0m",
      "\u001b[0;31mException\u001b[0m                                 Traceback (most recent call last)",
      "\u001b[0;32m<ipython-input-4-3ef775f427ca>\u001b[0m in \u001b[0;36m<module>\u001b[0;34m\u001b[0m\n\u001b[1;32m      1\u001b[0m \u001b[0;31m# explore and validate one single file\u001b[0m\u001b[0;34m\u001b[0m\u001b[0;34m\u001b[0m\u001b[0;34m\u001b[0m\u001b[0m\n\u001b[0;32m----> 2\u001b[0;31m \u001b[0mdownload_one_file\u001b[0m\u001b[0;34m(\u001b[0m\u001b[0myear\u001b[0m\u001b[0;34m=\u001b[0m\u001b[0;36m2023\u001b[0m\u001b[0;34m,\u001b[0m \u001b[0mmonth\u001b[0m\u001b[0;34m=\u001b[0m\u001b[0;36m8\u001b[0m\u001b[0;34m,\u001b[0m \u001b[0mday\u001b[0m\u001b[0;34m=\u001b[0m\u001b[0;36m1\u001b[0m\u001b[0;34m)\u001b[0m\u001b[0;34m\u001b[0m\u001b[0;34m\u001b[0m\u001b[0m\n\u001b[0m\u001b[1;32m      3\u001b[0m \u001b[0;34m\u001b[0m\u001b[0m\n\u001b[1;32m      4\u001b[0m \u001b[0;31m# Specify the path where you want to save the decompressed CSV\u001b[0m\u001b[0;34m\u001b[0m\u001b[0;34m\u001b[0m\u001b[0;34m\u001b[0m\u001b[0m\n\u001b[1;32m      5\u001b[0m \u001b[0mfile_path\u001b[0m \u001b[0;34m=\u001b[0m \u001b[0;34m'../data/raw/new-york-city/calendar-2023-09-01.csv.parquet'\u001b[0m\u001b[0;34m\u001b[0m\u001b[0;34m\u001b[0m\u001b[0m\n",
      "\u001b[0;32m<ipython-input-1-bc88a1d81bf3>\u001b[0m in \u001b[0;36mdownload_one_file\u001b[0;34m(year, month, day)\u001b[0m\n\u001b[1;32m     37\u001b[0m         \u001b[0;32mreturn\u001b[0m \u001b[0mdf\u001b[0m\u001b[0;34m\u001b[0m\u001b[0;34m\u001b[0m\u001b[0m\n\u001b[1;32m     38\u001b[0m     \u001b[0;32melse\u001b[0m\u001b[0;34m:\u001b[0m\u001b[0;34m\u001b[0m\u001b[0;34m\u001b[0m\u001b[0m\n\u001b[0;32m---> 39\u001b[0;31m         \u001b[0;32mraise\u001b[0m \u001b[0mException\u001b[0m\u001b[0;34m(\u001b[0m\u001b[0;34mf'{URL} is not available.'\u001b[0m\u001b[0;34m)\u001b[0m\u001b[0;34m\u001b[0m\u001b[0;34m\u001b[0m\u001b[0m\n\u001b[0m",
      "\u001b[0;31mException\u001b[0m: http://data.insideairbnb.com/united-states/ny/new-york-city/2023-08-01/data/calendar.csv.gz is not available."
     ]
    }
   ],
   "source": [
    "# explore and validate one single file\n",
    "download_one_file(year=2023, month=8, day=1)\n",
    "\n",
    "# Specify the path where you want to save the decompressed CSV\n",
    "file_path = '../data/raw/new-york-city/calendar-2023-09-01.csv.parquet'\n",
    "\n",
    "\n",
    "# Read the decompressed CSV with Pandas\n",
    "df = pd.read_parquet(file_path)\n",
    "\n",
    "df.head(20)"
   ]
  },
  {
   "cell_type": "code",
   "execution_count": null,
   "id": "8a90e529",
   "metadata": {},
   "outputs": [],
   "source": []
  }
 ],
 "metadata": {
  "kernelspec": {
   "display_name": "Python 3",
   "language": "python",
   "name": "python3"
  },
  "language_info": {
   "codemirror_mode": {
    "name": "ipython",
    "version": 3
   },
   "file_extension": ".py",
   "mimetype": "text/x-python",
   "name": "python",
   "nbconvert_exporter": "python",
   "pygments_lexer": "ipython3",
   "version": "3.8.8"
  }
 },
 "nbformat": 4,
 "nbformat_minor": 5
}
